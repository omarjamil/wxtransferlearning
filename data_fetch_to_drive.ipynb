{
  "nbformat": 4,
  "nbformat_minor": 0,
  "metadata": {
    "colab": {
      "name": "data_fetch.ipynb",
      "provenance": [],
      "mount_file_id": "1Sc1-0GU5eVPYZlgC8ulCuursmvbZZ8RQ",
      "authorship_tag": "ABX9TyM+bYLrUHYvF4DsmL5AhKKu",
      "include_colab_link": true
    },
    "kernelspec": {
      "name": "python3",
      "display_name": "Python 3"
    },
    "language_info": {
      "name": "python"
    }
  },
  "cells": [
    {
      "cell_type": "markdown",
      "metadata": {
        "id": "view-in-github",
        "colab_type": "text"
      },
      "source": [
        "<a href=\"https://colab.research.google.com/github/omarjamil/wxtransferlearning/blob/main/data_fetch_to_drive.ipynb\" target=\"_parent\"><img src=\"https://colab.research.google.com/assets/colab-badge.svg\" alt=\"Open In Colab\"/></a>"
      ]
    },
    {
      "cell_type": "code",
      "metadata": {
        "id": "ld33x_EygX_m"
      },
      "source": [
        "wget \"https://dataserv.ub.tum.de/s/m1524895/download?path=%2F5.625deg%2Fgeopotential_500&files=geopotential_500_5.625deg.zip\" -O /content/drive/MyDrive/ML/data/geopotential_500_5.625deg.zip"
      ],
      "execution_count": 4,
      "outputs": []
    },
    {
      "cell_type": "code",
      "metadata": {
        "id": "l5NhYlkxiRvM"
      },
      "source": [
        "wget \"https://dataserv.ub.tum.de/s/m1524895/download?path=%2F5.625deg%2Fgeopotential&files=geopotential_5.625deg.zip\" -O /content/drive/MyDrive/ML/data/geopotential_5.625deg.zip"
      ],
      "execution_count": null,
      "outputs": []
    },
    {
      "cell_type": "code",
      "metadata": {
        "id": "erFpUOYRgfOC"
      },
      "source": [
        "wget \"https://dataserv.ub.tum.de/s/m1524895/download?path=%2F5.625deg%2Fpotential_vorticity&files=potential_vorticity_5.625deg.zip\" -O /content/drive/MyDrive/ML/data/potential_vorticity_5.625deg.zip\n"
      ],
      "execution_count": null,
      "outputs": []
    },
    {
      "cell_type": "code",
      "metadata": {
        "id": "PhX7lVLzix_l"
      },
      "source": [
        "wget \"https://dataserv.ub.tum.de/s/m1524895/download?path=%2F5.625deg%2Fspecific_humidity&files=specific_humidity_5.625deg.zip\" -O /content/drive/MyDrive/ML/data/specific_humidity_5.625deg.zip\n"
      ],
      "execution_count": null,
      "outputs": []
    },
    {
      "cell_type": "code",
      "metadata": {
        "id": "ZA6pIg_wjI8e"
      },
      "source": [
        "wget \"https://dataserv.ub.tum.de/s/m1524895/download?path=%2F5.625deg%2Ftemperature&files=temperature_5.625deg.zip\" -O /content/drive/MyDrive/ML/data/temperature_5.625deg.zip\n"
      ],
      "execution_count": null,
      "outputs": []
    },
    {
      "cell_type": "code",
      "metadata": {
        "id": "HsxZOfyWjW37"
      },
      "source": [
        "wget \"https://dataserv.ub.tum.de/s/m1524895/download?path=%2F5.625deg%2Ftemperature_850&files=temperature_850_5.625deg.zip\" -O /content/drive/MyDrive/ML/data/temperature_850_5.625deg.zip\n"
      ],
      "execution_count": null,
      "outputs": []
    },
    {
      "cell_type": "code",
      "metadata": {
        "id": "xfnP4kCYjhi0"
      },
      "source": [
        "wget \"https://dataserv.ub.tum.de/s/m1524895/download?path=%2F5.625deg%2Ftoa_incident_solar_radiation&files=toa_incident_solar_radiation_5.625deg.zip\" -O /content/drive/MyDrive/ML/data/toa_incident_solar_radiation_5.625deg.zip\n"
      ],
      "execution_count": null,
      "outputs": []
    },
    {
      "cell_type": "code",
      "metadata": {
        "id": "v_o1kyP8jvoF"
      },
      "source": [
        "wget \"https://dataserv.ub.tum.de/s/m1524895/download?path=%2F5.625deg%2Fu_component_of_wind&files=u_component_of_wind_5.625deg.zip\" -O /content/drive/MyDrive/ML/data/u_component_of_wind_5.625deg.zip\n"
      ],
      "execution_count": null,
      "outputs": []
    },
    {
      "cell_type": "code",
      "metadata": {
        "id": "aLLp7n8wj9TA"
      },
      "source": [
        "wget \"https://dataserv.ub.tum.de/s/m1524895/download?path=%2F5.625deg%2Fv_component_of_wind&files=v_component_of_wind_5.625deg.zip\" -O /content/drive/MyDrive/ML/data/v_component_of_wind_5.625deg.zip\n"
      ],
      "execution_count": null,
      "outputs": []
    }
  ]
}